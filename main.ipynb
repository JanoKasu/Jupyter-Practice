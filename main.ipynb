{
 "cells": [
  {
   "cell_type": "markdown",
   "metadata": {},
   "source": [
    "# League of Legends First 10 Minutes Impact\n",
    "This is a notebook studying the impact of the first 10 minutes on the outcome of the game.\n",
    "First, download the kaggle dataset."
   ]
  },
  {
   "cell_type": "code",
   "execution_count": 1,
   "metadata": {},
   "outputs": [
    {
     "name": "stderr",
     "output_type": "stream",
     "text": [
      "c:\\Python312\\Lib\\site-packages\\tqdm\\auto.py:21: TqdmWarning: IProgress not found. Please update jupyter and ipywidgets. See https://ipywidgets.readthedocs.io/en/stable/user_install.html\n",
      "  from .autonotebook import tqdm as notebook_tqdm\n"
     ]
    }
   ],
   "source": [
    "import kagglehub\n",
    "\n",
    "# path = kagglehub.dataset_download(\"bobbyscience/league-of-legends-diamond-ranked-games-10-min\")\n",
    "# print(path)"
   ]
  },
  {
   "cell_type": "markdown",
   "metadata": {},
   "source": [
    "Personally, this downloaded the file to a cache on my machine.\n",
    "I moved the file to another folder in this repository labeled 'dataset'.\n",
    "Next we can import pandas and perform some calculations."
   ]
  },
  {
   "cell_type": "code",
   "execution_count": 2,
   "metadata": {},
   "outputs": [
    {
     "data": {
      "text/html": [
       "<div>\n",
       "<style scoped>\n",
       "    .dataframe tbody tr th:only-of-type {\n",
       "        vertical-align: middle;\n",
       "    }\n",
       "\n",
       "    .dataframe tbody tr th {\n",
       "        vertical-align: top;\n",
       "    }\n",
       "\n",
       "    .dataframe thead th {\n",
       "        text-align: right;\n",
       "    }\n",
       "</style>\n",
       "<table border=\"1\" class=\"dataframe\">\n",
       "  <thead>\n",
       "    <tr style=\"text-align: right;\">\n",
       "      <th></th>\n",
       "      <th>gameId</th>\n",
       "      <th>blueWins</th>\n",
       "      <th>blueWardsPlaced</th>\n",
       "      <th>blueWardsDestroyed</th>\n",
       "      <th>blueFirstBlood</th>\n",
       "      <th>blueKills</th>\n",
       "      <th>blueDeaths</th>\n",
       "      <th>blueAssists</th>\n",
       "      <th>blueEliteMonsters</th>\n",
       "      <th>blueDragons</th>\n",
       "      <th>...</th>\n",
       "      <th>redTowersDestroyed</th>\n",
       "      <th>redTotalGold</th>\n",
       "      <th>redAvgLevel</th>\n",
       "      <th>redTotalExperience</th>\n",
       "      <th>redTotalMinionsKilled</th>\n",
       "      <th>redTotalJungleMinionsKilled</th>\n",
       "      <th>redGoldDiff</th>\n",
       "      <th>redExperienceDiff</th>\n",
       "      <th>redCSPerMin</th>\n",
       "      <th>redGoldPerMin</th>\n",
       "    </tr>\n",
       "  </thead>\n",
       "  <tbody>\n",
       "    <tr>\n",
       "      <th>0</th>\n",
       "      <td>4519157822</td>\n",
       "      <td>0</td>\n",
       "      <td>28</td>\n",
       "      <td>2</td>\n",
       "      <td>1</td>\n",
       "      <td>9</td>\n",
       "      <td>6</td>\n",
       "      <td>11</td>\n",
       "      <td>0</td>\n",
       "      <td>0</td>\n",
       "      <td>...</td>\n",
       "      <td>0</td>\n",
       "      <td>16567</td>\n",
       "      <td>6.8</td>\n",
       "      <td>17047</td>\n",
       "      <td>197</td>\n",
       "      <td>55</td>\n",
       "      <td>-643</td>\n",
       "      <td>8</td>\n",
       "      <td>19.7</td>\n",
       "      <td>1656.7</td>\n",
       "    </tr>\n",
       "    <tr>\n",
       "      <th>1</th>\n",
       "      <td>4523371949</td>\n",
       "      <td>0</td>\n",
       "      <td>12</td>\n",
       "      <td>1</td>\n",
       "      <td>0</td>\n",
       "      <td>5</td>\n",
       "      <td>5</td>\n",
       "      <td>5</td>\n",
       "      <td>0</td>\n",
       "      <td>0</td>\n",
       "      <td>...</td>\n",
       "      <td>1</td>\n",
       "      <td>17620</td>\n",
       "      <td>6.8</td>\n",
       "      <td>17438</td>\n",
       "      <td>240</td>\n",
       "      <td>52</td>\n",
       "      <td>2908</td>\n",
       "      <td>1173</td>\n",
       "      <td>24.0</td>\n",
       "      <td>1762.0</td>\n",
       "    </tr>\n",
       "    <tr>\n",
       "      <th>2</th>\n",
       "      <td>4521474530</td>\n",
       "      <td>0</td>\n",
       "      <td>15</td>\n",
       "      <td>0</td>\n",
       "      <td>0</td>\n",
       "      <td>7</td>\n",
       "      <td>11</td>\n",
       "      <td>4</td>\n",
       "      <td>1</td>\n",
       "      <td>1</td>\n",
       "      <td>...</td>\n",
       "      <td>0</td>\n",
       "      <td>17285</td>\n",
       "      <td>6.8</td>\n",
       "      <td>17254</td>\n",
       "      <td>203</td>\n",
       "      <td>28</td>\n",
       "      <td>1172</td>\n",
       "      <td>1033</td>\n",
       "      <td>20.3</td>\n",
       "      <td>1728.5</td>\n",
       "    </tr>\n",
       "    <tr>\n",
       "      <th>3</th>\n",
       "      <td>4524384067</td>\n",
       "      <td>0</td>\n",
       "      <td>43</td>\n",
       "      <td>1</td>\n",
       "      <td>0</td>\n",
       "      <td>4</td>\n",
       "      <td>5</td>\n",
       "      <td>5</td>\n",
       "      <td>1</td>\n",
       "      <td>0</td>\n",
       "      <td>...</td>\n",
       "      <td>0</td>\n",
       "      <td>16478</td>\n",
       "      <td>7.0</td>\n",
       "      <td>17961</td>\n",
       "      <td>235</td>\n",
       "      <td>47</td>\n",
       "      <td>1321</td>\n",
       "      <td>7</td>\n",
       "      <td>23.5</td>\n",
       "      <td>1647.8</td>\n",
       "    </tr>\n",
       "    <tr>\n",
       "      <th>4</th>\n",
       "      <td>4436033771</td>\n",
       "      <td>0</td>\n",
       "      <td>75</td>\n",
       "      <td>4</td>\n",
       "      <td>0</td>\n",
       "      <td>6</td>\n",
       "      <td>6</td>\n",
       "      <td>6</td>\n",
       "      <td>0</td>\n",
       "      <td>0</td>\n",
       "      <td>...</td>\n",
       "      <td>0</td>\n",
       "      <td>17404</td>\n",
       "      <td>7.0</td>\n",
       "      <td>18313</td>\n",
       "      <td>225</td>\n",
       "      <td>67</td>\n",
       "      <td>1004</td>\n",
       "      <td>-230</td>\n",
       "      <td>22.5</td>\n",
       "      <td>1740.4</td>\n",
       "    </tr>\n",
       "    <tr>\n",
       "      <th>5</th>\n",
       "      <td>4475365709</td>\n",
       "      <td>1</td>\n",
       "      <td>18</td>\n",
       "      <td>0</td>\n",
       "      <td>0</td>\n",
       "      <td>5</td>\n",
       "      <td>3</td>\n",
       "      <td>6</td>\n",
       "      <td>1</td>\n",
       "      <td>1</td>\n",
       "      <td>...</td>\n",
       "      <td>0</td>\n",
       "      <td>15201</td>\n",
       "      <td>7.0</td>\n",
       "      <td>18060</td>\n",
       "      <td>221</td>\n",
       "      <td>59</td>\n",
       "      <td>-698</td>\n",
       "      <td>-101</td>\n",
       "      <td>22.1</td>\n",
       "      <td>1520.1</td>\n",
       "    </tr>\n",
       "    <tr>\n",
       "      <th>6</th>\n",
       "      <td>4493010632</td>\n",
       "      <td>1</td>\n",
       "      <td>18</td>\n",
       "      <td>3</td>\n",
       "      <td>1</td>\n",
       "      <td>7</td>\n",
       "      <td>6</td>\n",
       "      <td>7</td>\n",
       "      <td>1</td>\n",
       "      <td>1</td>\n",
       "      <td>...</td>\n",
       "      <td>0</td>\n",
       "      <td>14463</td>\n",
       "      <td>6.4</td>\n",
       "      <td>15404</td>\n",
       "      <td>164</td>\n",
       "      <td>35</td>\n",
       "      <td>-2411</td>\n",
       "      <td>-1563</td>\n",
       "      <td>16.4</td>\n",
       "      <td>1446.3</td>\n",
       "    </tr>\n",
       "    <tr>\n",
       "      <th>7</th>\n",
       "      <td>4496759358</td>\n",
       "      <td>0</td>\n",
       "      <td>16</td>\n",
       "      <td>2</td>\n",
       "      <td>0</td>\n",
       "      <td>5</td>\n",
       "      <td>13</td>\n",
       "      <td>3</td>\n",
       "      <td>0</td>\n",
       "      <td>0</td>\n",
       "      <td>...</td>\n",
       "      <td>0</td>\n",
       "      <td>17920</td>\n",
       "      <td>6.6</td>\n",
       "      <td>16938</td>\n",
       "      <td>157</td>\n",
       "      <td>54</td>\n",
       "      <td>2615</td>\n",
       "      <td>800</td>\n",
       "      <td>15.7</td>\n",
       "      <td>1792.0</td>\n",
       "    </tr>\n",
       "    <tr>\n",
       "      <th>8</th>\n",
       "      <td>4443048030</td>\n",
       "      <td>0</td>\n",
       "      <td>16</td>\n",
       "      <td>3</td>\n",
       "      <td>0</td>\n",
       "      <td>7</td>\n",
       "      <td>7</td>\n",
       "      <td>8</td>\n",
       "      <td>0</td>\n",
       "      <td>0</td>\n",
       "      <td>...</td>\n",
       "      <td>0</td>\n",
       "      <td>18380</td>\n",
       "      <td>7.2</td>\n",
       "      <td>19298</td>\n",
       "      <td>240</td>\n",
       "      <td>53</td>\n",
       "      <td>1979</td>\n",
       "      <td>771</td>\n",
       "      <td>24.0</td>\n",
       "      <td>1838.0</td>\n",
       "    </tr>\n",
       "    <tr>\n",
       "      <th>9</th>\n",
       "      <td>4509433346</td>\n",
       "      <td>1</td>\n",
       "      <td>13</td>\n",
       "      <td>1</td>\n",
       "      <td>1</td>\n",
       "      <td>4</td>\n",
       "      <td>5</td>\n",
       "      <td>5</td>\n",
       "      <td>1</td>\n",
       "      <td>1</td>\n",
       "      <td>...</td>\n",
       "      <td>0</td>\n",
       "      <td>16605</td>\n",
       "      <td>6.8</td>\n",
       "      <td>18379</td>\n",
       "      <td>247</td>\n",
       "      <td>43</td>\n",
       "      <td>1548</td>\n",
       "      <td>1574</td>\n",
       "      <td>24.7</td>\n",
       "      <td>1660.5</td>\n",
       "    </tr>\n",
       "  </tbody>\n",
       "</table>\n",
       "<p>10 rows × 40 columns</p>\n",
       "</div>"
      ],
      "text/plain": [
       "       gameId  blueWins  blueWardsPlaced  blueWardsDestroyed  blueFirstBlood  \\\n",
       "0  4519157822         0               28                   2               1   \n",
       "1  4523371949         0               12                   1               0   \n",
       "2  4521474530         0               15                   0               0   \n",
       "3  4524384067         0               43                   1               0   \n",
       "4  4436033771         0               75                   4               0   \n",
       "5  4475365709         1               18                   0               0   \n",
       "6  4493010632         1               18                   3               1   \n",
       "7  4496759358         0               16                   2               0   \n",
       "8  4443048030         0               16                   3               0   \n",
       "9  4509433346         1               13                   1               1   \n",
       "\n",
       "   blueKills  blueDeaths  blueAssists  blueEliteMonsters  blueDragons  ...  \\\n",
       "0          9           6           11                  0            0  ...   \n",
       "1          5           5            5                  0            0  ...   \n",
       "2          7          11            4                  1            1  ...   \n",
       "3          4           5            5                  1            0  ...   \n",
       "4          6           6            6                  0            0  ...   \n",
       "5          5           3            6                  1            1  ...   \n",
       "6          7           6            7                  1            1  ...   \n",
       "7          5          13            3                  0            0  ...   \n",
       "8          7           7            8                  0            0  ...   \n",
       "9          4           5            5                  1            1  ...   \n",
       "\n",
       "   redTowersDestroyed  redTotalGold  redAvgLevel  redTotalExperience  \\\n",
       "0                   0         16567          6.8               17047   \n",
       "1                   1         17620          6.8               17438   \n",
       "2                   0         17285          6.8               17254   \n",
       "3                   0         16478          7.0               17961   \n",
       "4                   0         17404          7.0               18313   \n",
       "5                   0         15201          7.0               18060   \n",
       "6                   0         14463          6.4               15404   \n",
       "7                   0         17920          6.6               16938   \n",
       "8                   0         18380          7.2               19298   \n",
       "9                   0         16605          6.8               18379   \n",
       "\n",
       "   redTotalMinionsKilled  redTotalJungleMinionsKilled  redGoldDiff  \\\n",
       "0                    197                           55         -643   \n",
       "1                    240                           52         2908   \n",
       "2                    203                           28         1172   \n",
       "3                    235                           47         1321   \n",
       "4                    225                           67         1004   \n",
       "5                    221                           59         -698   \n",
       "6                    164                           35        -2411   \n",
       "7                    157                           54         2615   \n",
       "8                    240                           53         1979   \n",
       "9                    247                           43         1548   \n",
       "\n",
       "   redExperienceDiff  redCSPerMin  redGoldPerMin  \n",
       "0                  8         19.7         1656.7  \n",
       "1               1173         24.0         1762.0  \n",
       "2               1033         20.3         1728.5  \n",
       "3                  7         23.5         1647.8  \n",
       "4               -230         22.5         1740.4  \n",
       "5               -101         22.1         1520.1  \n",
       "6              -1563         16.4         1446.3  \n",
       "7                800         15.7         1792.0  \n",
       "8                771         24.0         1838.0  \n",
       "9               1574         24.7         1660.5  \n",
       "\n",
       "[10 rows x 40 columns]"
      ]
     },
     "execution_count": 2,
     "metadata": {},
     "output_type": "execute_result"
    }
   ],
   "source": [
    "import pandas as pd\n",
    "\n",
    "# Import the dataset\n",
    "df = pd.read_csv('dataset/high_diamond_ranked_10min.csv')\n",
    "df.head(10)"
   ]
  },
  {
   "cell_type": "markdown",
   "metadata": {},
   "source": [
    "## Winrate & Games Won"
   ]
  },
  {
   "cell_type": "code",
   "execution_count": 3,
   "metadata": {},
   "outputs": [
    {
     "name": "stdout",
     "output_type": "stream",
     "text": [
      "Blue Wins: 0.4990383642069035\n",
      "4930 / 9879\n",
      "Red Wins: 0.5009616357930965\n",
      "4949 / 9879\n"
     ]
    }
   ],
   "source": [
    "# Calculate winrate for blue across all games\n",
    "# Naturally, this is a zero-sum game, so the winrate for our sample is close to 0.50\n",
    "blueGamesWon = df['gameId'].where(df['blueWins'] == 1).count()\n",
    "blueWinrate = blueGamesWon/len(df)\n",
    "redGamesWon = df['gameId'].where(df['blueWins'] == 0).count()\n",
    "redWinrate = redGamesWon/len(df)\n",
    "\n",
    "print('Blue Wins:', blueWinrate)\n",
    "print(blueGamesWon, '/', len(df))\n",
    "print('Red Wins:', redWinrate)\n",
    "print(redGamesWon, '/', len(df))"
   ]
  },
  {
   "cell_type": "markdown",
   "metadata": {},
   "source": [
    "## First Blood"
   ]
  },
  {
   "cell_type": "code",
   "execution_count": 4,
   "metadata": {},
   "outputs": [
    {
     "name": "stdout",
     "output_type": "stream",
     "text": [
      "Winning games with first blood: 5936 / 9879\n",
      "0.6008705334548031\n"
     ]
    }
   ],
   "source": [
    "# Calculatethe intersection of games where a team wins and gets first blood\n",
    "FBWins = df['gameId'].where(df['blueWins'] == df['blueFirstBlood']).count()\n",
    "print('Winning games with first blood:', FBWins, '/', len(df))\n",
    "print(FBWins / len(df))"
   ]
  },
  {
   "cell_type": "markdown",
   "metadata": {},
   "source": [
    "From this, we can gather that both sides win more games when they get first blood.\n",
    "They win more by about 10.09%."
   ]
  },
  {
   "cell_type": "markdown",
   "metadata": {},
   "source": [
    "## Greater Average Level at 10 Minutes"
   ]
  },
  {
   "cell_type": "code",
   "execution_count": 5,
   "metadata": {},
   "outputs": [
    {
     "name": "stdout",
     "output_type": "stream",
     "text": [
      "Winrate for Greater Avg Level @ 10 mins: 0.5893330838651609\n"
     ]
    }
   ],
   "source": [
    "# Calculate the intersection of games where a side wins and has a level advantage @ 10 mins\n",
    "blueGreaterAverageLevelWin = df['gameId'].where(df['blueWins'] == 1).where(df['blueAvgLevel'] > df['redAvgLevel']).count()\n",
    "redGreaterAverageLevelWin  = df['gameId'].where(df['blueWins'] == 0).where(df['blueAvgLevel'] < df['redAvgLevel']).count()\n",
    "blueGreaterAverageLevelWinrate = blueGreaterAverageLevelWin/blueGamesWon\n",
    "redGreaterAverageLevelWinrate = blueGreaterAverageLevelWin/redGamesWon\n",
    "winrateGreaterAverageLevel = (redGreaterAverageLevelWinrate + blueGreaterAverageLevelWinrate) / 2\n",
    "\n",
    "print('Winrate for Greater Avg Level @ 10 mins:', winrateGreaterAverageLevel)"
   ]
  },
  {
   "cell_type": "markdown",
   "metadata": {},
   "source": [
    "Above, we can see that the team that has a higher average level at 10 minutes has a higher winrate by about 8.93%.\n",
    "Getting ahead early has a substantial impact on the game's outcome.\n",
    "We should see the same trend with cs at 10 mins as well."
   ]
  },
  {
   "cell_type": "markdown",
   "metadata": {},
   "source": [
    "## More CS at 10 Minutes"
   ]
  },
  {
   "cell_type": "code",
   "execution_count": 6,
   "metadata": {},
   "outputs": [
    {
     "name": "stdout",
     "output_type": "stream",
     "text": [
      "Winrate for more cs at 10 minutes: 0.6198820668588364\n"
     ]
    }
   ],
   "source": [
    "# Calculate the intersection of games where a side wins and has a CS advantage @ 10 mins\n",
    "blueMoreCSWin = df['gameId'].where(df['blueWins'] == 1).where(df['blueCSPerMin'] > df['redCSPerMin']).count()\n",
    "redMoreCSWin = df['gameId'].where(df['blueWins'] == 0).where(df['blueCSPerMin'] < df['redCSPerMin']).count()\n",
    "blueMoreCSWinrate = blueMoreCSWin / blueGamesWon\n",
    "redMoreCSWinrate = redMoreCSWin / redGamesWon\n",
    "winrateMoreCS = (blueMoreCSWinrate + redMoreCSWinrate) / 2\n",
    "print('Winrate for more cs at 10 minutes:', winrateMoreCS)"
   ]
  },
  {
   "cell_type": "markdown",
   "metadata": {},
   "source": [
    "A winrate of 56.43% using cs at 10 minutes indicates a 6.43% increase.\n",
    "This, although less drastic than previously seen, is still an indicator of the game's outcome after 10 minutes."
   ]
  },
  {
   "cell_type": "markdown",
   "metadata": {},
   "source": [
    "## More Gold at 10 Minutes"
   ]
  },
  {
   "cell_type": "code",
   "execution_count": 8,
   "metadata": {},
   "outputs": [
    {
     "name": "stdout",
     "output_type": "stream",
     "text": [
      "Winrate for more gold at 10 minutes: 0.7227502267550927\n"
     ]
    }
   ],
   "source": [
    "# Calculate the intersection of games where a side wins and has a gold advantage @ 10 mins\n",
    "blueMoreGoldWin = df['gameId'].where(df['blueWins'] == 1).where(df['blueGoldDiff'] > 0).count()\n",
    "redMoreGoldWin = df['gameId'].where(df['blueWins'] == 0).where(df['blueGoldDiff'] < 0).count()\n",
    "blueMoreGoldWinrate = blueMoreGoldWin / blueGamesWon\n",
    "redMoreGoldWinrate = redMoreGoldWin / redGamesWon\n",
    "winrateMoreGold = (blueMoreGoldWinrate + redMoreGoldWinrate) / 2\n",
    "\n",
    "print('Winrate for more gold at 10 minutes:', winrateMoreGold)"
   ]
  },
  {
   "cell_type": "markdown",
   "metadata": {},
   "source": [
    "This result shows a 22.27% increase in winrate for having more gold as a team than your opponent at 10 minutes. This is perhaps the greatest indicator of how well a team is doing compared to the other team, and the greatest indicator of which team will win the game."
   ]
  }
 ],
 "metadata": {
  "kernelspec": {
   "display_name": "Python 3",
   "language": "python",
   "name": "python3"
  },
  "language_info": {
   "codemirror_mode": {
    "name": "ipython",
    "version": 3
   },
   "file_extension": ".py",
   "mimetype": "text/x-python",
   "name": "python",
   "nbconvert_exporter": "python",
   "pygments_lexer": "ipython3",
   "version": "3.12.2"
  }
 },
 "nbformat": 4,
 "nbformat_minor": 2
}
